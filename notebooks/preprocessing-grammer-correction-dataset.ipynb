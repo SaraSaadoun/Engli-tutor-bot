{
 "cells": [
  {
   "cell_type": "markdown",
   "id": "ba94133b",
   "metadata": {
    "papermill": {
     "duration": 0.013969,
     "end_time": "2024-10-24T16:37:14.897241",
     "exception": false,
     "start_time": "2024-10-24T16:37:14.883272",
     "status": "completed"
    },
    "tags": []
   },
   "source": [
    "# Imports"
   ]
  },
  {
   "cell_type": "code",
   "execution_count": 1,
   "id": "c91c3405",
   "metadata": {
    "_cell_guid": "b1076dfc-b9ad-4769-8c92-a6c4dae69d19",
    "_uuid": "8f2839f25d086af736a60e9eeb907d3b93b6e0e5",
    "execution": {
     "iopub.execute_input": "2024-10-24T16:37:14.923711Z",
     "iopub.status.busy": "2024-10-24T16:37:14.923127Z",
     "iopub.status.idle": "2024-10-24T16:37:19.765358Z",
     "shell.execute_reply": "2024-10-24T16:37:19.763730Z"
    },
    "papermill": {
     "duration": 4.859034,
     "end_time": "2024-10-24T16:37:19.768462",
     "exception": false,
     "start_time": "2024-10-24T16:37:14.909428",
     "status": "completed"
    },
    "tags": []
   },
   "outputs": [
    {
     "name": "stderr",
     "output_type": "stream",
     "text": [
      "/opt/conda/lib/python3.10/site-packages/nltk/twitter/__init__.py:20: UserWarning: The twython library has not been installed. Some functionality from the twitter package will not be available.\n",
      "  warnings.warn(\"The twython library has not been installed. \"\n"
     ]
    }
   ],
   "source": [
    "import numpy as np \n",
    "import pandas as pd \n",
    "import random\n",
    "from huggingface_hub import login\n",
    "from datasets import Dataset, DatasetDict\n",
    "import nltk\n",
    "from nltk.sentiment import SentimentIntensityAnalyzer\n",
    "\n",
    "import matplotlib.pyplot as plt\n",
    "import seaborn as sns\n",
    "import warnings\n",
    "warnings.filterwarnings('ignore')"
   ]
  },
  {
   "cell_type": "markdown",
   "id": "26b27c71",
   "metadata": {
    "papermill": {
     "duration": 0.011804,
     "end_time": "2024-10-24T16:37:19.793284",
     "exception": false,
     "start_time": "2024-10-24T16:37:19.781480",
     "status": "completed"
    },
    "tags": []
   },
   "source": [
    "# Read Grammer DataFrame"
   ]
  },
  {
   "cell_type": "code",
   "execution_count": 2,
   "id": "50d2629d",
   "metadata": {
    "execution": {
     "iopub.execute_input": "2024-10-24T16:37:19.820869Z",
     "iopub.status.busy": "2024-10-24T16:37:19.820148Z",
     "iopub.status.idle": "2024-10-24T16:37:20.048623Z",
     "shell.execute_reply": "2024-10-24T16:37:20.047146Z"
    },
    "papermill": {
     "duration": 0.245229,
     "end_time": "2024-10-24T16:37:20.051545",
     "exception": false,
     "start_time": "2024-10-24T16:37:19.806316",
     "status": "completed"
    },
    "tags": []
   },
   "outputs": [
    {
     "data": {
      "text/html": [
       "<div>\n",
       "<style scoped>\n",
       "    .dataframe tbody tr th:only-of-type {\n",
       "        vertical-align: middle;\n",
       "    }\n",
       "\n",
       "    .dataframe tbody tr th {\n",
       "        vertical-align: top;\n",
       "    }\n",
       "\n",
       "    .dataframe thead th {\n",
       "        text-align: right;\n",
       "    }\n",
       "</style>\n",
       "<table border=\"1\" class=\"dataframe\">\n",
       "  <thead>\n",
       "    <tr style=\"text-align: right;\">\n",
       "      <th></th>\n",
       "      <th>input</th>\n",
       "      <th>target</th>\n",
       "    </tr>\n",
       "  </thead>\n",
       "  <tbody>\n",
       "    <tr>\n",
       "      <th>0</th>\n",
       "      <td>The effect of widespread dud targets two face ...</td>\n",
       "      <td>1. The effect of \"widespread dud\" targets two ...</td>\n",
       "    </tr>\n",
       "    <tr>\n",
       "      <th>1</th>\n",
       "      <td>tax on sales of stores for non residents are s...</td>\n",
       "      <td>Capital Gains tax on the sale of properties fo...</td>\n",
       "    </tr>\n",
       "    <tr>\n",
       "      <th>2</th>\n",
       "      <td>Much many brands and sellers still in the market.</td>\n",
       "      <td>Many brands and sellers still in the market.</td>\n",
       "    </tr>\n",
       "    <tr>\n",
       "      <th>3</th>\n",
       "      <td>this is is the latest Maintenance release of S...</td>\n",
       "      <td>This is is the latest maintenance release of S...</td>\n",
       "    </tr>\n",
       "    <tr>\n",
       "      <th>4</th>\n",
       "      <td>Fairy Or Not, I'm the Godmother: no just look,...</td>\n",
       "      <td>Fairy Or Not, I'm the Godmother: Not just a lo...</td>\n",
       "    </tr>\n",
       "  </tbody>\n",
       "</table>\n",
       "</div>"
      ],
      "text/plain": [
       "                                               input  \\\n",
       "0  The effect of widespread dud targets two face ...   \n",
       "1  tax on sales of stores for non residents are s...   \n",
       "2  Much many brands and sellers still in the market.   \n",
       "3  this is is the latest Maintenance release of S...   \n",
       "4  Fairy Or Not, I'm the Godmother: no just look,...   \n",
       "\n",
       "                                              target  \n",
       "0  1. The effect of \"widespread dud\" targets two ...  \n",
       "1  Capital Gains tax on the sale of properties fo...  \n",
       "2       Many brands and sellers still in the market.  \n",
       "3  This is is the latest maintenance release of S...  \n",
       "4  Fairy Or Not, I'm the Godmother: Not just a lo...  "
      ]
     },
     "execution_count": 2,
     "metadata": {},
     "output_type": "execute_result"
    }
   ],
   "source": [
    "new_column_names = [\"input\", \"target\"]\n",
    "\n",
    "n_rows =  100\n",
    "df1 = pd.read_csv('/kaggle/input/c4200m/C4_200M.tsv-00000-of-00010',sep = '\\t',nrows = n_rows)\n",
    "df1.columns = new_column_names\n",
    "df2 = pd.read_csv('/kaggle/input/c4200m/C4_200M.tsv-00001-of-00010',sep = '\\t',nrows = n_rows)\n",
    "df2.columns = new_column_names\n",
    "df3 = pd.read_csv('/kaggle/input/c4200m/C4_200M.tsv-00002-of-00010',sep = '\\t',nrows = n_rows)\n",
    "df3.columns = new_column_names\n",
    "df4 = pd.read_csv('/kaggle/input/c4200m/C4_200M.tsv-00003-of-00010',sep = '\\t',nrows = n_rows)\n",
    "df4.columns = new_column_names\n",
    "df5 = pd.read_csv('/kaggle/input/c4200m/C4_200M.tsv-00004-of-00010',sep = '\\t',nrows = n_rows)\n",
    "df5.columns = new_column_names\n",
    "df6 = pd.read_csv('/kaggle/input/c4200m/C4_200M.tsv-00005-of-00010',sep = '\\t',nrows = n_rows)\n",
    "df6.columns = new_column_names\n",
    "df7 = pd.read_csv('/kaggle/input/c4200m/C4_200M.tsv-00006-of-00010',sep = '\\t',nrows = n_rows)\n",
    "df7.columns = new_column_names\n",
    "df8 = pd.read_csv('/kaggle/input/c4200m/C4_200M.tsv-00007-of-00010',sep = '\\t',nrows = n_rows)\n",
    "df8.columns = new_column_names\n",
    "df9 = pd.read_csv('/kaggle/input/c4200m/C4_200M.tsv-00008-of-00010',sep = '\\t',nrows = n_rows)\n",
    "df9.columns = new_column_names\n",
    "df10 = pd.read_csv('/kaggle/input/c4200m/C4_200M.tsv-00009-of-00010',sep = '\\t',nrows = n_rows)\n",
    "df10.columns = new_column_names\n",
    "df = pd.concat((df1,df2,df3,df4,df5,df6,df7,df8,df9,df10),axis = 0)\n",
    "df.head()"
   ]
  },
  {
   "cell_type": "markdown",
   "id": "29f63930",
   "metadata": {
    "papermill": {
     "duration": 0.012814,
     "end_time": "2024-10-24T16:37:20.078222",
     "exception": false,
     "start_time": "2024-10-24T16:37:20.065408",
     "status": "completed"
    },
    "tags": []
   },
   "source": [
    "# Preprocessing"
   ]
  },
  {
   "cell_type": "code",
   "execution_count": 3,
   "id": "3029a5ae",
   "metadata": {
    "execution": {
     "iopub.execute_input": "2024-10-24T16:37:20.113947Z",
     "iopub.status.busy": "2024-10-24T16:37:20.112474Z",
     "iopub.status.idle": "2024-10-24T16:37:20.132004Z",
     "shell.execute_reply": "2024-10-24T16:37:20.129896Z"
    },
    "papermill": {
     "duration": 0.040791,
     "end_time": "2024-10-24T16:37:20.135023",
     "exception": false,
     "start_time": "2024-10-24T16:37:20.094232",
     "status": "completed"
    },
    "tags": []
   },
   "outputs": [
    {
     "data": {
      "text/plain": [
       "0"
      ]
     },
     "execution_count": 3,
     "metadata": {},
     "output_type": "execute_result"
    }
   ],
   "source": [
    "df.duplicated().sum()"
   ]
  },
  {
   "cell_type": "code",
   "execution_count": 4,
   "id": "c9b88ebe",
   "metadata": {
    "execution": {
     "iopub.execute_input": "2024-10-24T16:37:20.166751Z",
     "iopub.status.busy": "2024-10-24T16:37:20.166278Z",
     "iopub.status.idle": "2024-10-24T16:37:20.176107Z",
     "shell.execute_reply": "2024-10-24T16:37:20.174818Z"
    },
    "papermill": {
     "duration": 0.026706,
     "end_time": "2024-10-24T16:37:20.178881",
     "exception": false,
     "start_time": "2024-10-24T16:37:20.152175",
     "status": "completed"
    },
    "tags": []
   },
   "outputs": [
    {
     "data": {
      "text/plain": [
       "input     0\n",
       "target    0\n",
       "dtype: int64"
      ]
     },
     "execution_count": 4,
     "metadata": {},
     "output_type": "execute_result"
    }
   ],
   "source": [
    "df.isna().sum()"
   ]
  },
  {
   "cell_type": "markdown",
   "id": "515325b9",
   "metadata": {
    "papermill": {
     "duration": 0.015098,
     "end_time": "2024-10-24T16:37:20.206861",
     "exception": false,
     "start_time": "2024-10-24T16:37:20.191763",
     "status": "completed"
    },
    "tags": []
   },
   "source": [
    "df8move instances with sth like numerical bullet points in the target like :"
   ]
  },
  {
   "cell_type": "code",
   "execution_count": 5,
   "id": "7013a17a",
   "metadata": {
    "execution": {
     "iopub.execute_input": "2024-10-24T16:37:20.239384Z",
     "iopub.status.busy": "2024-10-24T16:37:20.238481Z",
     "iopub.status.idle": "2024-10-24T16:37:20.257373Z",
     "shell.execute_reply": "2024-10-24T16:37:20.256072Z"
    },
    "papermill": {
     "duration": 0.038603,
     "end_time": "2024-10-24T16:37:20.260335",
     "exception": false,
     "start_time": "2024-10-24T16:37:20.221732",
     "status": "completed"
    },
    "tags": []
   },
   "outputs": [
    {
     "data": {
      "text/html": [
       "<div>\n",
       "<style scoped>\n",
       "    .dataframe tbody tr th:only-of-type {\n",
       "        vertical-align: middle;\n",
       "    }\n",
       "\n",
       "    .dataframe tbody tr th {\n",
       "        vertical-align: top;\n",
       "    }\n",
       "\n",
       "    .dataframe thead th {\n",
       "        text-align: right;\n",
       "    }\n",
       "</style>\n",
       "<table border=\"1\" class=\"dataframe\">\n",
       "  <thead>\n",
       "    <tr style=\"text-align: right;\">\n",
       "      <th></th>\n",
       "      <th>input</th>\n",
       "      <th>target</th>\n",
       "    </tr>\n",
       "  </thead>\n",
       "  <tbody>\n",
       "    <tr>\n",
       "      <th>0</th>\n",
       "      <td>The effect of widespread dud targets two face ...</td>\n",
       "      <td>1. The effect of \"widespread dud\" targets two ...</td>\n",
       "    </tr>\n",
       "    <tr>\n",
       "      <th>88</th>\n",
       "      <td>There are 5 secrets from behind the front desk!</td>\n",
       "      <td>5 secrets from behind the front desk!</td>\n",
       "    </tr>\n",
       "    <tr>\n",
       "      <th>7</th>\n",
       "      <td>There are 3. Fully drain and fully recharge yo...</td>\n",
       "      <td>3. Fully drain and fully recharge your replace...</td>\n",
       "    </tr>\n",
       "    <tr>\n",
       "      <th>36</th>\n",
       "      <td>e1 The Real Nolla Noise : The Real Conert of G...</td>\n",
       "      <td>1. The Real Noble Noise : The Real Concert of ...</td>\n",
       "    </tr>\n",
       "    <tr>\n",
       "      <th>81</th>\n",
       "      <td>Monster 1997- monster now has two discs of fro...</td>\n",
       "      <td>1997: Ducati M750 Monster now has two front di...</td>\n",
       "    </tr>\n",
       "    <tr>\n",
       "      <th>96</th>\n",
       "      <td>Lacy cardis is the parach for feminine elegance.</td>\n",
       "      <td>13. Lacy cardis are the paragon of feminine el...</td>\n",
       "    </tr>\n",
       "    <tr>\n",
       "      <th>79</th>\n",
       "      <td>Fursmall things is i can do for make a big som...</td>\n",
       "      <td>4. What small things can I do right now to mak...</td>\n",
       "    </tr>\n",
       "  </tbody>\n",
       "</table>\n",
       "</div>"
      ],
      "text/plain": [
       "                                                input  \\\n",
       "0   The effect of widespread dud targets two face ...   \n",
       "88    There are 5 secrets from behind the front desk!   \n",
       "7   There are 3. Fully drain and fully recharge yo...   \n",
       "36  e1 The Real Nolla Noise : The Real Conert of G...   \n",
       "81  Monster 1997- monster now has two discs of fro...   \n",
       "96   Lacy cardis is the parach for feminine elegance.   \n",
       "79  Fursmall things is i can do for make a big som...   \n",
       "\n",
       "                                               target  \n",
       "0   1. The effect of \"widespread dud\" targets two ...  \n",
       "88              5 secrets from behind the front desk!  \n",
       "7   3. Fully drain and fully recharge your replace...  \n",
       "36  1. The Real Noble Noise : The Real Concert of ...  \n",
       "81  1997: Ducati M750 Monster now has two front di...  \n",
       "96  13. Lacy cardis are the paragon of feminine el...  \n",
       "79  4. What small things can I do right now to mak...  "
      ]
     },
     "execution_count": 5,
     "metadata": {},
     "output_type": "execute_result"
    }
   ],
   "source": [
    "subset_df = df[(df['target'].str[0].str.isdigit() & (~ df['input'].str[0].str.isdigit()))]\n",
    "subset_df"
   ]
  },
  {
   "cell_type": "code",
   "execution_count": 6,
   "id": "8cab7f24",
   "metadata": {
    "execution": {
     "iopub.execute_input": "2024-10-24T16:37:20.300292Z",
     "iopub.status.busy": "2024-10-24T16:37:20.299810Z",
     "iopub.status.idle": "2024-10-24T16:37:20.333954Z",
     "shell.execute_reply": "2024-10-24T16:37:20.332407Z"
    },
    "papermill": {
     "duration": 0.058023,
     "end_time": "2024-10-24T16:37:20.337002",
     "exception": false,
     "start_time": "2024-10-24T16:37:20.278979",
     "status": "completed"
    },
    "tags": []
   },
   "outputs": [
    {
     "name": "stdout",
     "output_type": "stream",
     "text": [
      "{'•', '©', 'é', '\\u0c49', '¨', '{', 'с', '\\u200b', 'č', '…', 'á', ']', '–', 'о', 'ç', '&', 'ō', '%', '|', 'ć', '®', '‘', 'ÿ', '_', 'ı', '～', 'š', 'ͼ', '@', 'а', '£', 'α', '`', '#', 'ς', '\\u200f', '$', '¡', '″', '”', '😀', 'е', '~', '>', '™', 'ğ', '°', '[', '—', '<', '’', 'Т', '“', '×', '+', '🥚', '紫', 'ś', '='}\n"
     ]
    }
   ],
   "source": [
    "# Function to find improper characters\n",
    "def find_improper_chars(text):\n",
    "    import re\n",
    "    # Define the allowed character pattern\n",
    "    allowed_pattern = r'^[a-zA-Z0-9\\s.,!?\\'\"()-]+$'\n",
    "    # Find characters that do not match the allowed pattern\n",
    "    return set(re.findall(r'[^a-zA-Z0-9\\s.,!?\\'\"();:\\\\/^*-]', text))\n",
    "\n",
    "# Find improper characters in the 'definition' column\n",
    "improper_chars_set = set()\n",
    "for definition in df['input']:\n",
    "    improper_chars_set.update(find_improper_chars(definition))\n",
    "\n",
    "for definition in df['input']:\n",
    "    improper_chars_set.update(find_improper_chars(definition))\n",
    "\n",
    "print(improper_chars_set)\n"
   ]
  },
  {
   "cell_type": "code",
   "execution_count": 7,
   "id": "56409e07",
   "metadata": {
    "execution": {
     "iopub.execute_input": "2024-10-24T16:37:20.375566Z",
     "iopub.status.busy": "2024-10-24T16:37:20.374688Z",
     "iopub.status.idle": "2024-10-24T16:37:20.393035Z",
     "shell.execute_reply": "2024-10-24T16:37:20.391850Z"
    },
    "papermill": {
     "duration": 0.040128,
     "end_time": "2024-10-24T16:37:20.396501",
     "exception": false,
     "start_time": "2024-10-24T16:37:20.356373",
     "status": "completed"
    },
    "tags": []
   },
   "outputs": [
    {
     "data": {
      "text/html": [
       "<div>\n",
       "<style scoped>\n",
       "    .dataframe tbody tr th:only-of-type {\n",
       "        vertical-align: middle;\n",
       "    }\n",
       "\n",
       "    .dataframe tbody tr th {\n",
       "        vertical-align: top;\n",
       "    }\n",
       "\n",
       "    .dataframe thead th {\n",
       "        text-align: right;\n",
       "    }\n",
       "</style>\n",
       "<table border=\"1\" class=\"dataframe\">\n",
       "  <thead>\n",
       "    <tr style=\"text-align: right;\">\n",
       "      <th></th>\n",
       "      <th>input</th>\n",
       "      <th>target</th>\n",
       "    </tr>\n",
       "  </thead>\n",
       "  <tbody>\n",
       "    <tr>\n",
       "      <th>77</th>\n",
       "      <td>I love smoothies😀That loaks absolutel ydelicious.</td>\n",
       "      <td>I love smoothies😀That looks absolutely delicious.</td>\n",
       "    </tr>\n",
       "  </tbody>\n",
       "</table>\n",
       "</div>"
      ],
      "text/plain": [
       "                                                input  \\\n",
       "77  I love smoothies😀That loaks absolutel ydelicious.   \n",
       "\n",
       "                                               target  \n",
       "77  I love smoothies😀That looks absolutely delicious.  "
      ]
     },
     "execution_count": 7,
     "metadata": {},
     "output_type": "execute_result"
    }
   ],
   "source": [
    "df[df['input'].str.find('😀') != -1]"
   ]
  },
  {
   "cell_type": "code",
   "execution_count": 8,
   "id": "e4ad43a9",
   "metadata": {
    "execution": {
     "iopub.execute_input": "2024-10-24T16:37:20.429939Z",
     "iopub.status.busy": "2024-10-24T16:37:20.428714Z",
     "iopub.status.idle": "2024-10-24T16:37:20.449093Z",
     "shell.execute_reply": "2024-10-24T16:37:20.447045Z"
    },
    "papermill": {
     "duration": 0.039646,
     "end_time": "2024-10-24T16:37:20.452579",
     "exception": false,
     "start_time": "2024-10-24T16:37:20.412933",
     "status": "completed"
    },
    "tags": []
   },
   "outputs": [
    {
     "data": {
      "text/plain": [
       "(786, 2)"
      ]
     },
     "execution_count": 8,
     "metadata": {},
     "output_type": "execute_result"
    }
   ],
   "source": [
    "# Remove rows with improper characters\n",
    "mask_input = df['input'].str.match(r'^[a-zA-Z0-9\\s.\\$,!?\\'\"():;&%*\\\\/^-]+$')\n",
    "mask_target = df['input'].str.match(r'^[a-zA-Z0-9\\s.\\$,!?\\'\"():;&%*\\\\/^-]+$')\n",
    "cleaned_df = df[mask_input & mask_target]\n",
    "cleaned_df.shape"
   ]
  },
  {
   "cell_type": "code",
   "execution_count": 9,
   "id": "2fd200ed",
   "metadata": {
    "execution": {
     "iopub.execute_input": "2024-10-24T16:37:20.483320Z",
     "iopub.status.busy": "2024-10-24T16:37:20.482898Z",
     "iopub.status.idle": "2024-10-24T16:37:20.496276Z",
     "shell.execute_reply": "2024-10-24T16:37:20.495110Z"
    },
    "papermill": {
     "duration": 0.031325,
     "end_time": "2024-10-24T16:37:20.498773",
     "exception": false,
     "start_time": "2024-10-24T16:37:20.467448",
     "status": "completed"
    },
    "tags": []
   },
   "outputs": [
    {
     "data": {
      "text/plain": [
       "(779, 2)"
      ]
     },
     "execution_count": 9,
     "metadata": {},
     "output_type": "execute_result"
    }
   ],
   "source": [
    "filtered_df = cleaned_df[~(cleaned_df['target'].str[0].str.isdigit() & (~ cleaned_df['input'].str[0].str.isdigit()))]\n",
    "filtered_df.shape"
   ]
  },
  {
   "cell_type": "markdown",
   "id": "cbe9ae70",
   "metadata": {
    "papermill": {
     "duration": 0.013724,
     "end_time": "2024-10-24T16:37:20.526303",
     "exception": false,
     "start_time": "2024-10-24T16:37:20.512579",
     "status": "completed"
    },
    "tags": []
   },
   "source": [
    "The VADER lexicon (Valence Aware Dictionary and sEntiment Reasoner) is a specialized sentiment analysis tool designed for analyzing textual data. It is particularly effective for social media texts, short comments, and any other text that may contain slang, emojis, or informal language. Here are some key features of the VADER lexicon:\n",
    "\n",
    "Outputs: When using VADER for sentiment analysis, it provides several output metrics, including:\n",
    "\n",
    "- Positive: Proportion of positive sentiment.\n",
    "- Negative: Proportion of negative sentiment.\n",
    "- Neutral: Proportion of neutral sentiment.\n",
    "- Compound: A single score summarizing the overall sentiment."
   ]
  },
  {
   "cell_type": "code",
   "execution_count": 10,
   "id": "1afaa9ff",
   "metadata": {
    "execution": {
     "iopub.execute_input": "2024-10-24T16:37:20.555983Z",
     "iopub.status.busy": "2024-10-24T16:37:20.555094Z",
     "iopub.status.idle": "2024-10-24T16:37:20.667796Z",
     "shell.execute_reply": "2024-10-24T16:37:20.666503Z"
    },
    "papermill": {
     "duration": 0.130201,
     "end_time": "2024-10-24T16:37:20.670293",
     "exception": false,
     "start_time": "2024-10-24T16:37:20.540092",
     "status": "completed"
    },
    "tags": []
   },
   "outputs": [
    {
     "name": "stdout",
     "output_type": "stream",
     "text": [
      "[nltk_data] Downloading package vader_lexicon to\n",
      "[nltk_data]     /usr/share/nltk_data...\n",
      "[nltk_data]   Package vader_lexicon is already up-to-date!\n"
     ]
    },
    {
     "data": {
      "text/plain": [
       "True"
      ]
     },
     "execution_count": 10,
     "metadata": {},
     "output_type": "execute_result"
    }
   ],
   "source": [
    "\n",
    "# Download the VADER lexicon (only need to do this once)\n",
    "nltk.download('vader_lexicon')\n",
    "\n"
   ]
  },
  {
   "cell_type": "code",
   "execution_count": 11,
   "id": "30eb7c3f",
   "metadata": {
    "execution": {
     "iopub.execute_input": "2024-10-24T16:37:20.700736Z",
     "iopub.status.busy": "2024-10-24T16:37:20.700274Z",
     "iopub.status.idle": "2024-10-24T16:37:21.993500Z",
     "shell.execute_reply": "2024-10-24T16:37:21.992318Z"
    },
    "papermill": {
     "duration": 1.31196,
     "end_time": "2024-10-24T16:37:21.996337",
     "exception": false,
     "start_time": "2024-10-24T16:37:20.684377",
     "status": "completed"
    },
    "tags": []
   },
   "outputs": [
    {
     "data": {
      "text/html": [
       "<div>\n",
       "<style scoped>\n",
       "    .dataframe tbody tr th:only-of-type {\n",
       "        vertical-align: middle;\n",
       "    }\n",
       "\n",
       "    .dataframe tbody tr th {\n",
       "        vertical-align: top;\n",
       "    }\n",
       "\n",
       "    .dataframe thead th {\n",
       "        text-align: right;\n",
       "    }\n",
       "</style>\n",
       "<table border=\"1\" class=\"dataframe\">\n",
       "  <thead>\n",
       "    <tr style=\"text-align: right;\">\n",
       "      <th></th>\n",
       "      <th>input</th>\n",
       "      <th>target</th>\n",
       "      <th>input_compound</th>\n",
       "      <th>target_compound</th>\n",
       "    </tr>\n",
       "  </thead>\n",
       "  <tbody>\n",
       "    <tr>\n",
       "      <th>0</th>\n",
       "      <td>The effect of widespread dud targets two face ...</td>\n",
       "      <td>1. The effect of \"widespread dud\" targets two ...</td>\n",
       "      <td>-0.6249</td>\n",
       "      <td>-0.6249</td>\n",
       "    </tr>\n",
       "    <tr>\n",
       "      <th>1</th>\n",
       "      <td>tax on sales of stores for non residents are s...</td>\n",
       "      <td>Capital Gains tax on the sale of properties fo...</td>\n",
       "      <td>0.7906</td>\n",
       "      <td>0.9432</td>\n",
       "    </tr>\n",
       "    <tr>\n",
       "      <th>2</th>\n",
       "      <td>Much many brands and sellers still in the market.</td>\n",
       "      <td>Many brands and sellers still in the market.</td>\n",
       "      <td>0.0000</td>\n",
       "      <td>0.0000</td>\n",
       "    </tr>\n",
       "    <tr>\n",
       "      <th>3</th>\n",
       "      <td>this is is the latest Maintenance release of S...</td>\n",
       "      <td>This is is the latest maintenance release of S...</td>\n",
       "      <td>0.0000</td>\n",
       "      <td>0.0000</td>\n",
       "    </tr>\n",
       "    <tr>\n",
       "      <th>4</th>\n",
       "      <td>Fairy Or Not, I'm the Godmother: no just look,...</td>\n",
       "      <td>Fairy Or Not, I'm the Godmother: Not just a lo...</td>\n",
       "      <td>-0.1531</td>\n",
       "      <td>0.0000</td>\n",
       "    </tr>\n",
       "  </tbody>\n",
       "</table>\n",
       "</div>"
      ],
      "text/plain": [
       "                                               input  \\\n",
       "0  The effect of widespread dud targets two face ...   \n",
       "1  tax on sales of stores for non residents are s...   \n",
       "2  Much many brands and sellers still in the market.   \n",
       "3  this is is the latest Maintenance release of S...   \n",
       "4  Fairy Or Not, I'm the Godmother: no just look,...   \n",
       "\n",
       "                                              target  input_compound  \\\n",
       "0  1. The effect of \"widespread dud\" targets two ...         -0.6249   \n",
       "1  Capital Gains tax on the sale of properties fo...          0.7906   \n",
       "2       Many brands and sellers still in the market.          0.0000   \n",
       "3  This is is the latest maintenance release of S...          0.0000   \n",
       "4  Fairy Or Not, I'm the Godmother: Not just a lo...         -0.1531   \n",
       "\n",
       "   target_compound  \n",
       "0          -0.6249  \n",
       "1           0.9432  \n",
       "2           0.0000  \n",
       "3           0.0000  \n",
       "4           0.0000  "
      ]
     },
     "execution_count": 11,
     "metadata": {},
     "output_type": "execute_result"
    }
   ],
   "source": [
    "sia = SentimentIntensityAnalyzer()\n",
    "\n",
    "# Function to calculate sentiment scores\n",
    "def get_sentiment_scores(sentence):\n",
    "    return sia.polarity_scores(sentence)\n",
    "\n",
    "# Calculate sentiment scores for input and target\n",
    "df['input_sentiment'] = df['input'].apply(get_sentiment_scores)\n",
    "df['target_sentiment'] = df['target'].apply(get_sentiment_scores)\n",
    "\n",
    "# Expand the sentiment scores into separate columns\n",
    "sentiment_columns = df['input_sentiment'].apply(pd.Series)\n",
    "df = pd.concat([df, sentiment_columns], axis=1)\n",
    "df.rename(columns={'neg': 'input_neg', 'neu': 'input_neu', 'pos': 'input_pos', 'compound': 'input_compound'}, inplace=True)\n",
    "\n",
    "sentiment_columns = df['target_sentiment'].apply(pd.Series)\n",
    "df = pd.concat([df, sentiment_columns], axis=1)\n",
    "df.rename(columns={'neg': 'target_neg', 'neu': 'target_neu', 'pos': 'target_pos', 'compound': 'target_compound'}, inplace=True)\n",
    "\n",
    "# Display the updated dataframe\n",
    "df[['input', 'target', 'input_compound', 'target_compound']].head()\n"
   ]
  },
  {
   "cell_type": "code",
   "execution_count": 12,
   "id": "b5dbb2a0",
   "metadata": {
    "execution": {
     "iopub.execute_input": "2024-10-24T16:37:22.027202Z",
     "iopub.status.busy": "2024-10-24T16:37:22.026763Z",
     "iopub.status.idle": "2024-10-24T16:37:22.937856Z",
     "shell.execute_reply": "2024-10-24T16:37:22.936568Z"
    },
    "papermill": {
     "duration": 0.929562,
     "end_time": "2024-10-24T16:37:22.940452",
     "exception": false,
     "start_time": "2024-10-24T16:37:22.010890",
     "status": "completed"
    },
    "tags": []
   },
   "outputs": [
    {
     "data": {
      "image/png": "[encoded data removed]",
      "text/plain": [
       "<Figure size 1200x600 with 1 Axes>"
      ]
     },
     "metadata": {},
     "output_type": "display_data"
    }
   ],
   "source": [
    "import matplotlib.pyplot as plt\n",
    "import seaborn as sns\n",
    "\n",
    "# Set the aesthetics for the plots\n",
    "sns.set(style='whitegrid')\n",
    "\n",
    "# Plot compound sentiment scores for input and target\n",
    "plt.figure(figsize=(12, 6))\n",
    "\n",
    "# Plot for input_compound with a specific color\n",
    "sns.histplot(df['input_compound'], bins=30, color='orange', kde=True, label='Input Sentiment', stat='density', alpha=0.6)\n",
    "\n",
    "# Plot for target_compound with a different color\n",
    "sns.histplot(df['target_compound'], bins=30, color='blue', kde=True, label='Target Sentiment', stat='density', alpha=0.6)\n",
    "\n",
    "plt.legend()\n",
    "plt.title('Distribution of Sentiment Scores')\n",
    "plt.xlabel('Compound Sentiment Score')\n",
    "plt.ylabel('Density')\n",
    "plt.axvline(0, color='red', linestyle='--', label='Neutral')\n",
    "plt.show()\n"
   ]
  },
  {
   "cell_type": "markdown",
   "id": "d8159c52",
   "metadata": {
    "papermill": {
     "duration": 0.01492,
     "end_time": "2024-10-24T16:37:22.970998",
     "exception": false,
     "start_time": "2024-10-24T16:37:22.956078",
     "status": "completed"
    },
    "tags": []
   },
   "source": [
    "\n",
    "In sentiment analysis, the compound score is a single numeric value that summarizes the overall sentiment of a text. This score ranges from -1 to +1:\n",
    "\n",
    "- -1 indicates extremely negative sentiment.\n",
    "- 0 indicates a neutral sentiment.\n",
    "- +1 indicates extremely positive sentiment."
   ]
  },
  {
   "cell_type": "code",
   "execution_count": 13,
   "id": "10be19df",
   "metadata": {
    "execution": {
     "iopub.execute_input": "2024-10-24T16:37:23.003617Z",
     "iopub.status.busy": "2024-10-24T16:37:23.003169Z",
     "iopub.status.idle": "2024-10-24T16:37:23.317299Z",
     "shell.execute_reply": "2024-10-24T16:37:23.316051Z"
    },
    "papermill": {
     "duration": 0.33373,
     "end_time": "2024-10-24T16:37:23.320021",
     "exception": false,
     "start_time": "2024-10-24T16:37:22.986291",
     "status": "completed"
    },
    "tags": []
   },
   "outputs": [
    {
     "data": {
      "text/html": [
       "<div>\n",
       "<style scoped>\n",
       "    .dataframe tbody tr th:only-of-type {\n",
       "        vertical-align: middle;\n",
       "    }\n",
       "\n",
       "    .dataframe tbody tr th {\n",
       "        vertical-align: top;\n",
       "    }\n",
       "\n",
       "    .dataframe thead th {\n",
       "        text-align: right;\n",
       "    }\n",
       "</style>\n",
       "<table border=\"1\" class=\"dataframe\">\n",
       "  <thead>\n",
       "    <tr style=\"text-align: right;\">\n",
       "      <th></th>\n",
       "      <th>count</th>\n",
       "      <th>mean</th>\n",
       "      <th>std</th>\n",
       "      <th>min</th>\n",
       "      <th>25%</th>\n",
       "      <th>50%</th>\n",
       "      <th>75%</th>\n",
       "      <th>max</th>\n",
       "    </tr>\n",
       "  </thead>\n",
       "  <tbody>\n",
       "    <tr>\n",
       "      <th>input_length</th>\n",
       "      <td>1000.0</td>\n",
       "      <td>134.589</td>\n",
       "      <td>99.521709</td>\n",
       "      <td>21.0</td>\n",
       "      <td>63.0</td>\n",
       "      <td>108.0</td>\n",
       "      <td>175.00</td>\n",
       "      <td>859.0</td>\n",
       "    </tr>\n",
       "    <tr>\n",
       "      <th>input_word_count</th>\n",
       "      <td>1000.0</td>\n",
       "      <td>22.520</td>\n",
       "      <td>16.196850</td>\n",
       "      <td>3.0</td>\n",
       "      <td>11.0</td>\n",
       "      <td>18.0</td>\n",
       "      <td>29.25</td>\n",
       "      <td>135.0</td>\n",
       "    </tr>\n",
       "    <tr>\n",
       "      <th>target_length</th>\n",
       "      <td>1000.0</td>\n",
       "      <td>135.053</td>\n",
       "      <td>99.773027</td>\n",
       "      <td>22.0</td>\n",
       "      <td>63.0</td>\n",
       "      <td>107.0</td>\n",
       "      <td>175.25</td>\n",
       "      <td>722.0</td>\n",
       "    </tr>\n",
       "    <tr>\n",
       "      <th>target_word_count</th>\n",
       "      <td>1000.0</td>\n",
       "      <td>22.496</td>\n",
       "      <td>16.249740</td>\n",
       "      <td>5.0</td>\n",
       "      <td>11.0</td>\n",
       "      <td>18.0</td>\n",
       "      <td>30.00</td>\n",
       "      <td>111.0</td>\n",
       "    </tr>\n",
       "  </tbody>\n",
       "</table>\n",
       "</div>"
      ],
      "text/plain": [
       "                    count     mean        std   min   25%    50%     75%  \\\n",
       "input_length       1000.0  134.589  99.521709  21.0  63.0  108.0  175.00   \n",
       "input_word_count   1000.0   22.520  16.196850   3.0  11.0   18.0   29.25   \n",
       "target_length      1000.0  135.053  99.773027  22.0  63.0  107.0  175.25   \n",
       "target_word_count  1000.0   22.496  16.249740   5.0  11.0   18.0   30.00   \n",
       "\n",
       "                     max  \n",
       "input_length       859.0  \n",
       "input_word_count   135.0  \n",
       "target_length      722.0  \n",
       "target_word_count  111.0  "
      ]
     },
     "execution_count": 13,
     "metadata": {},
     "output_type": "execute_result"
    }
   ],
   "source": [
    "# Function to calculate sentence length and word count\n",
    "def sentence_stats(sentence):\n",
    "    words = sentence.split()\n",
    "    return len(sentence), len(words)\n",
    "\n",
    "# Calculate sentence lengths and word counts for input and target\n",
    "df[['input_length', 'input_word_count']] = df['input'].apply(sentence_stats).apply(pd.Series)\n",
    "df[['target_length', 'target_word_count']] = df['target'].apply(sentence_stats).apply(pd.Series)\n",
    "\n",
    "# Display descriptive statistics\n",
    "df[['input_length', 'input_word_count', 'target_length', 'target_word_count']].describe().T\n",
    "\n"
   ]
  },
  {
   "cell_type": "code",
   "execution_count": 14,
   "id": "3e7f590e",
   "metadata": {
    "execution": {
     "iopub.execute_input": "2024-10-24T16:37:23.353708Z",
     "iopub.status.busy": "2024-10-24T16:37:23.352600Z",
     "iopub.status.idle": "2024-10-24T16:37:24.002530Z",
     "shell.execute_reply": "2024-10-24T16:37:24.001304Z"
    },
    "papermill": {
     "duration": 0.669584,
     "end_time": "2024-10-24T16:37:24.005353",
     "exception": false,
     "start_time": "2024-10-24T16:37:23.335769",
     "status": "completed"
    },
    "tags": []
   },
   "outputs": [
    {
     "data": {
      "image/png": "[encoded data removed]",
      "text/plain": [
       "<Figure size 1200x600 with 1 Axes>"
      ]
     },
     "metadata": {},
     "output_type": "display_data"
    }
   ],
   "source": [
    "# Set the aesthetics for the plots\n",
    "sns.set(style='whitegrid')\n",
    "\n",
    "# Plot sentence length distribution\n",
    "plt.figure(figsize=(12, 6))\n",
    "sns.histplot(df['input_length'], bins=30, color='blue', kde=True, label='Input Length', stat='density')\n",
    "sns.histplot(df['target_length'], bins=30, color='orange', kde=True, label='Target Length', stat='density')\n",
    "plt.legend()\n",
    "plt.title('Distribution of Sentence Lengths')\n",
    "plt.xlabel('Length')\n",
    "plt.ylabel('Density')\n",
    "plt.show()\n"
   ]
  },
  {
   "cell_type": "code",
   "execution_count": 15,
   "id": "47f0a334",
   "metadata": {
    "execution": {
     "iopub.execute_input": "2024-10-24T16:37:24.042304Z",
     "iopub.status.busy": "2024-10-24T16:37:24.041407Z",
     "iopub.status.idle": "2024-10-24T16:37:24.750318Z",
     "shell.execute_reply": "2024-10-24T16:37:24.748737Z"
    },
    "papermill": {
     "duration": 0.730801,
     "end_time": "2024-10-24T16:37:24.753298",
     "exception": false,
     "start_time": "2024-10-24T16:37:24.022497",
     "status": "completed"
    },
    "tags": []
   },
   "outputs": [
    {
     "data": {
      "image/png": "[encoded data removed]",
      "text/plain": [
       "<Figure size 1200x600 with 1 Axes>"
      ]
     },
     "metadata": {},
     "output_type": "display_data"
    }
   ],
   "source": [
    "sns.set(style='whitegrid')\n",
    "\n",
    "# Plot sentence length distribution\n",
    "plt.figure(figsize=(12, 6))\n",
    "sns.histplot(df['input_word_count'], bins=30, color='blue', kde=True, label='input word count', stat='density')\n",
    "sns.histplot(df['target_word_count'], bins=30, color='orange', kde=True, label='target word count', stat='density')\n",
    "plt.legend()\n",
    "plt.title('Distribution of Sentence Lengths')\n",
    "plt.xlabel('Length')\n",
    "plt.ylabel('Density')\n",
    "plt.show()"
   ]
  },
  {
   "cell_type": "markdown",
   "id": "67da34f6",
   "metadata": {
    "papermill": {
     "duration": 0.018155,
     "end_time": "2024-10-24T16:37:24.790046",
     "exception": false,
     "start_time": "2024-10-24T16:37:24.771891",
     "status": "completed"
    },
    "tags": []
   },
   "source": [
    "# Transform Dataframe into the Desired Shape"
   ]
  },
  {
   "cell_type": "code",
   "execution_count": 16,
   "id": "2bb94143",
   "metadata": {
    "execution": {
     "iopub.execute_input": "2024-10-24T16:37:24.828061Z",
     "iopub.status.busy": "2024-10-24T16:37:24.827549Z",
     "iopub.status.idle": "2024-10-24T16:37:24.838240Z",
     "shell.execute_reply": "2024-10-24T16:37:24.837073Z"
    },
    "papermill": {
     "duration": 0.033024,
     "end_time": "2024-10-24T16:37:24.841006",
     "exception": false,
     "start_time": "2024-10-24T16:37:24.807982",
     "status": "completed"
    },
    "tags": []
   },
   "outputs": [
    {
     "data": {
      "text/plain": [
       "(10, 10)"
      ]
     },
     "execution_count": 16,
     "metadata": {},
     "output_type": "execute_result"
    }
   ],
   "source": [
    "# List of variations of dialog-friendly questions\n",
    "\n",
    "dialog_friendly_questions = [\n",
    "    \"Could you help me fix this sentence?\",\n",
    "    \"Can you correct the grammar in this sentence?\",\n",
    "    \"Would you mind checking this sentence for errors?\",\n",
    "    \"Can you point out the mistakes in this sentence?\",\n",
    "    \"Could you suggest a better way to phrase this?\",\n",
    "    \"Is there a grammatical error in this sentence?\",\n",
    "    \"Can you help me rephrase this?\",\n",
    "    \"How would you correct this sentence?\",\n",
    "    \"What do you think about this sentence?\",\n",
    "    \"Can you review this sentence for me?\"\n",
    "]\n",
    "\n",
    "\n",
    "kindly_beginnings = [\n",
    "    \"Sure, here's a corrected version.\",\n",
    "    \"Absolutely, here’s the revised sentence.\",\n",
    "    \"Of course, here’s how it should read.\",\n",
    "    \"Certainly! Here’s the improved version.\",\n",
    "    \"Yes, here’s a better phrasing.\",\n",
    "    \"Of course! Here’s the corrected sentence.\",\n",
    "    \"Absolutely! Here’s the right version.\",\n",
    "    \"Sure thing! Here’s the fixed sentence.\",\n",
    "    \"Certainly! Here’s a grammatically accurate version.\",\n",
    "    \"Yes, here's how you can improve it.\"\n",
    "]\n",
    "len(dialog_friendly_questions), len(kindly_beginnings)\n"
   ]
  },
  {
   "cell_type": "code",
   "execution_count": 17,
   "id": "cc9fdf73",
   "metadata": {
    "execution": {
     "iopub.execute_input": "2024-10-24T16:37:24.880060Z",
     "iopub.status.busy": "2024-10-24T16:37:24.879560Z",
     "iopub.status.idle": "2024-10-24T16:37:24.886842Z",
     "shell.execute_reply": "2024-10-24T16:37:24.885632Z"
    },
    "papermill": {
     "duration": 0.030338,
     "end_time": "2024-10-24T16:37:24.889568",
     "exception": false,
     "start_time": "2024-10-24T16:37:24.859230",
     "status": "completed"
    },
    "tags": []
   },
   "outputs": [],
   "source": [
    "def transform(row):\n",
    "    incorrect_sentence = row['input']\n",
    "    question_random_index = random.randint(0, len(dialog_friendly_questions)-1)\n",
    "    question = f\"{dialog_friendly_questions[question_random_index]} The sentence is {row['input']}\"\n",
    "    \n",
    "    answer_random_index = random.randint(0, len(kindly_beginnings)-1)\n",
    "    answer = f\"{kindly_beginnings[answer_random_index]} {row['target']}\"\n",
    "    prompt = '<s>[INST] {question} [/INST] {answer} </s>'.format(question=question, answer=answer)\n",
    "\n",
    "    return prompt\n",
    "\n"
   ]
  },
  {
   "cell_type": "code",
   "execution_count": 18,
   "id": "b2220864",
   "metadata": {
    "execution": {
     "iopub.execute_input": "2024-10-24T16:37:24.928264Z",
     "iopub.status.busy": "2024-10-24T16:37:24.927488Z",
     "iopub.status.idle": "2024-10-24T16:37:24.959382Z",
     "shell.execute_reply": "2024-10-24T16:37:24.957954Z"
    },
    "papermill": {
     "duration": 0.054416,
     "end_time": "2024-10-24T16:37:24.962247",
     "exception": false,
     "start_time": "2024-10-24T16:37:24.907831",
     "status": "completed"
    },
    "tags": []
   },
   "outputs": [],
   "source": [
    "transformed_df = pd.DataFrame(filtered_df.apply(transform, axis=1))"
   ]
  },
  {
   "cell_type": "code",
   "execution_count": 19,
   "id": "a11cd494",
   "metadata": {
    "execution": {
     "iopub.execute_input": "2024-10-24T16:37:25.000426Z",
     "iopub.status.busy": "2024-10-24T16:37:24.999981Z",
     "iopub.status.idle": "2024-10-24T16:37:25.011935Z",
     "shell.execute_reply": "2024-10-24T16:37:25.010723Z"
    },
    "papermill": {
     "duration": 0.033707,
     "end_time": "2024-10-24T16:37:25.014546",
     "exception": false,
     "start_time": "2024-10-24T16:37:24.980839",
     "status": "completed"
    },
    "tags": []
   },
   "outputs": [
    {
     "data": {
      "text/html": [
       "<div>\n",
       "<style scoped>\n",
       "    .dataframe tbody tr th:only-of-type {\n",
       "        vertical-align: middle;\n",
       "    }\n",
       "\n",
       "    .dataframe tbody tr th {\n",
       "        vertical-align: top;\n",
       "    }\n",
       "\n",
       "    .dataframe thead th {\n",
       "        text-align: right;\n",
       "    }\n",
       "</style>\n",
       "<table border=\"1\" class=\"dataframe\">\n",
       "  <thead>\n",
       "    <tr style=\"text-align: right;\">\n",
       "      <th></th>\n",
       "      <th>text</th>\n",
       "    </tr>\n",
       "  </thead>\n",
       "  <tbody>\n",
       "    <tr>\n",
       "      <th>1</th>\n",
       "      <td>&lt;s&gt;[INST] Is there a grammatical error in this...</td>\n",
       "    </tr>\n",
       "    <tr>\n",
       "      <th>2</th>\n",
       "      <td>&lt;s&gt;[INST] Could you help me fix this sentence?...</td>\n",
       "    </tr>\n",
       "    <tr>\n",
       "      <th>3</th>\n",
       "      <td>&lt;s&gt;[INST] How would you correct this sentence?...</td>\n",
       "    </tr>\n",
       "    <tr>\n",
       "      <th>4</th>\n",
       "      <td>&lt;s&gt;[INST] How would you correct this sentence?...</td>\n",
       "    </tr>\n",
       "    <tr>\n",
       "      <th>5</th>\n",
       "      <td>&lt;s&gt;[INST] Can you review this sentence for me?...</td>\n",
       "    </tr>\n",
       "  </tbody>\n",
       "</table>\n",
       "</div>"
      ],
      "text/plain": [
       "                                                text\n",
       "1  <s>[INST] Is there a grammatical error in this...\n",
       "2  <s>[INST] Could you help me fix this sentence?...\n",
       "3  <s>[INST] How would you correct this sentence?...\n",
       "4  <s>[INST] How would you correct this sentence?...\n",
       "5  <s>[INST] Can you review this sentence for me?..."
      ]
     },
     "execution_count": 19,
     "metadata": {},
     "output_type": "execute_result"
    }
   ],
   "source": [
    "transformed_df.columns = ['text']\n",
    "\n",
    "transformed_df.head()"
   ]
  },
  {
   "cell_type": "markdown",
   "id": "fc4e0b01",
   "metadata": {
    "papermill": {
     "duration": 0.017824,
     "end_time": "2024-10-24T16:37:25.050667",
     "exception": false,
     "start_time": "2024-10-24T16:37:25.032843",
     "status": "completed"
    },
    "tags": []
   },
   "source": [
    "# Save to CSV"
   ]
  },
  {
   "cell_type": "code",
   "execution_count": 20,
   "id": "7b0704c7",
   "metadata": {
    "execution": {
     "iopub.execute_input": "2024-10-24T16:37:25.092043Z",
     "iopub.status.busy": "2024-10-24T16:37:25.091276Z",
     "iopub.status.idle": "2024-10-24T16:37:25.115197Z",
     "shell.execute_reply": "2024-10-24T16:37:25.113742Z"
    },
    "papermill": {
     "duration": 0.049112,
     "end_time": "2024-10-24T16:37:25.118242",
     "exception": false,
     "start_time": "2024-10-24T16:37:25.069130",
     "status": "completed"
    },
    "tags": []
   },
   "outputs": [],
   "source": [
    "transformed_df.to_csv('grammer_correction_dataset.csv', index=False)"
   ]
  },
  {
   "cell_type": "markdown",
   "id": "67a14cf7",
   "metadata": {
    "papermill": {
     "duration": 0.020063,
     "end_time": "2024-10-24T16:37:25.157177",
     "exception": false,
     "start_time": "2024-10-24T16:37:25.137114",
     "status": "completed"
    },
    "tags": []
   },
   "source": [
    "# Another Transform [Question and Answer columns]"
   ]
  },
  {
   "cell_type": "code",
   "execution_count": 21,
   "id": "21812d66",
   "metadata": {
    "execution": {
     "iopub.execute_input": "2024-10-24T16:37:25.196054Z",
     "iopub.status.busy": "2024-10-24T16:37:25.195004Z",
     "iopub.status.idle": "2024-10-24T16:37:25.202200Z",
     "shell.execute_reply": "2024-10-24T16:37:25.200966Z"
    },
    "papermill": {
     "duration": 0.029355,
     "end_time": "2024-10-24T16:37:25.204790",
     "exception": false,
     "start_time": "2024-10-24T16:37:25.175435",
     "status": "completed"
    },
    "tags": []
   },
   "outputs": [],
   "source": [
    "def transform_q(q):\n",
    "    question_random_index = random.randint(0, len(dialog_friendly_questions)-1)\n",
    "    question = f\"{dialog_friendly_questions[question_random_index]} The sentence is {q}\"\n",
    "    \n",
    "    \n",
    "    \n",
    "    return question\n",
    "\n",
    "def transform_a(a):\n",
    "    answer_random_index = random.randint(0, len(kindly_beginnings)-1)\n",
    "    answer = f\"{kindly_beginnings[answer_random_index]} {a}\"\n",
    "    \n",
    "    return answer\n"
   ]
  },
  {
   "cell_type": "code",
   "execution_count": 22,
   "id": "be8f61f5",
   "metadata": {
    "execution": {
     "iopub.execute_input": "2024-10-24T16:37:25.244365Z",
     "iopub.status.busy": "2024-10-24T16:37:25.243187Z",
     "iopub.status.idle": "2024-10-24T16:37:25.249291Z",
     "shell.execute_reply": "2024-10-24T16:37:25.248011Z"
    },
    "papermill": {
     "duration": 0.028829,
     "end_time": "2024-10-24T16:37:25.251953",
     "exception": false,
     "start_time": "2024-10-24T16:37:25.223124",
     "status": "completed"
    },
    "tags": []
   },
   "outputs": [],
   "source": [
    "qna_df = pd.DataFrame()"
   ]
  },
  {
   "cell_type": "code",
   "execution_count": 23,
   "id": "2d1de9a4",
   "metadata": {
    "execution": {
     "iopub.execute_input": "2024-10-24T16:37:25.291218Z",
     "iopub.status.busy": "2024-10-24T16:37:25.290727Z",
     "iopub.status.idle": "2024-10-24T16:37:25.304718Z",
     "shell.execute_reply": "2024-10-24T16:37:25.303501Z"
    },
    "papermill": {
     "duration": 0.037029,
     "end_time": "2024-10-24T16:37:25.307811",
     "exception": false,
     "start_time": "2024-10-24T16:37:25.270782",
     "status": "completed"
    },
    "tags": []
   },
   "outputs": [],
   "source": [
    "qna_df['question'] = filtered_df['input'].map(transform_q)\n",
    "qna_df['answer'] = filtered_df['target'].map(transform_a)"
   ]
  },
  {
   "cell_type": "code",
   "execution_count": 24,
   "id": "0c3a3c8b",
   "metadata": {
    "execution": {
     "iopub.execute_input": "2024-10-24T16:37:25.346578Z",
     "iopub.status.busy": "2024-10-24T16:37:25.346097Z",
     "iopub.status.idle": "2024-10-24T16:37:25.358881Z",
     "shell.execute_reply": "2024-10-24T16:37:25.357544Z"
    },
    "papermill": {
     "duration": 0.035147,
     "end_time": "2024-10-24T16:37:25.361483",
     "exception": false,
     "start_time": "2024-10-24T16:37:25.326336",
     "status": "completed"
    },
    "tags": []
   },
   "outputs": [
    {
     "data": {
      "text/html": [
       "<div>\n",
       "<style scoped>\n",
       "    .dataframe tbody tr th:only-of-type {\n",
       "        vertical-align: middle;\n",
       "    }\n",
       "\n",
       "    .dataframe tbody tr th {\n",
       "        vertical-align: top;\n",
       "    }\n",
       "\n",
       "    .dataframe thead th {\n",
       "        text-align: right;\n",
       "    }\n",
       "</style>\n",
       "<table border=\"1\" class=\"dataframe\">\n",
       "  <thead>\n",
       "    <tr style=\"text-align: right;\">\n",
       "      <th></th>\n",
       "      <th>question</th>\n",
       "      <th>answer</th>\n",
       "    </tr>\n",
       "  </thead>\n",
       "  <tbody>\n",
       "    <tr>\n",
       "      <th>1</th>\n",
       "      <td>Would you mind checking this sentence for erro...</td>\n",
       "      <td>Certainly! Here’s the improved version. Capita...</td>\n",
       "    </tr>\n",
       "    <tr>\n",
       "      <th>2</th>\n",
       "      <td>Would you mind checking this sentence for erro...</td>\n",
       "      <td>Yes, here's how you can improve it. Many brand...</td>\n",
       "    </tr>\n",
       "    <tr>\n",
       "      <th>3</th>\n",
       "      <td>Could you suggest a better way to phrase this?...</td>\n",
       "      <td>Certainly! Here’s the improved version. This i...</td>\n",
       "    </tr>\n",
       "    <tr>\n",
       "      <th>4</th>\n",
       "      <td>Can you point out the mistakes in this sentenc...</td>\n",
       "      <td>Yes, here's how you can improve it. Fairy Or N...</td>\n",
       "    </tr>\n",
       "    <tr>\n",
       "      <th>5</th>\n",
       "      <td>Would you mind checking this sentence for erro...</td>\n",
       "      <td>Absolutely! Here’s the right version. Watch as...</td>\n",
       "    </tr>\n",
       "  </tbody>\n",
       "</table>\n",
       "</div>"
      ],
      "text/plain": [
       "                                            question  \\\n",
       "1  Would you mind checking this sentence for erro...   \n",
       "2  Would you mind checking this sentence for erro...   \n",
       "3  Could you suggest a better way to phrase this?...   \n",
       "4  Can you point out the mistakes in this sentenc...   \n",
       "5  Would you mind checking this sentence for erro...   \n",
       "\n",
       "                                              answer  \n",
       "1  Certainly! Here’s the improved version. Capita...  \n",
       "2  Yes, here's how you can improve it. Many brand...  \n",
       "3  Certainly! Here’s the improved version. This i...  \n",
       "4  Yes, here's how you can improve it. Fairy Or N...  \n",
       "5  Absolutely! Here’s the right version. Watch as...  "
      ]
     },
     "execution_count": 24,
     "metadata": {},
     "output_type": "execute_result"
    }
   ],
   "source": [
    "qna_df.head()"
   ]
  },
  {
   "cell_type": "code",
   "execution_count": 25,
   "id": "c11bc6ac",
   "metadata": {
    "execution": {
     "iopub.execute_input": "2024-10-24T16:37:25.400854Z",
     "iopub.status.busy": "2024-10-24T16:37:25.400329Z",
     "iopub.status.idle": "2024-10-24T16:37:25.408044Z",
     "shell.execute_reply": "2024-10-24T16:37:25.406754Z"
    },
    "papermill": {
     "duration": 0.030581,
     "end_time": "2024-10-24T16:37:25.410802",
     "exception": false,
     "start_time": "2024-10-24T16:37:25.380221",
     "status": "completed"
    },
    "tags": []
   },
   "outputs": [],
   "source": [
    "split = 200\n",
    "qna_df = pd.concat([qna_df[:split], qna_df[-split:]], axis=0)"
   ]
  },
  {
   "cell_type": "code",
   "execution_count": 26,
   "id": "c8db4cdb",
   "metadata": {
    "execution": {
     "iopub.execute_input": "2024-10-24T16:37:25.450514Z",
     "iopub.status.busy": "2024-10-24T16:37:25.449415Z",
     "iopub.status.idle": "2024-10-24T16:37:25.461389Z",
     "shell.execute_reply": "2024-10-24T16:37:25.460051Z"
    },
    "papermill": {
     "duration": 0.034318,
     "end_time": "2024-10-24T16:37:25.463977",
     "exception": false,
     "start_time": "2024-10-24T16:37:25.429659",
     "status": "completed"
    },
    "tags": []
   },
   "outputs": [
    {
     "data": {
      "text/html": [
       "<div>\n",
       "<style scoped>\n",
       "    .dataframe tbody tr th:only-of-type {\n",
       "        vertical-align: middle;\n",
       "    }\n",
       "\n",
       "    .dataframe tbody tr th {\n",
       "        vertical-align: top;\n",
       "    }\n",
       "\n",
       "    .dataframe thead th {\n",
       "        text-align: right;\n",
       "    }\n",
       "</style>\n",
       "<table border=\"1\" class=\"dataframe\">\n",
       "  <thead>\n",
       "    <tr style=\"text-align: right;\">\n",
       "      <th></th>\n",
       "      <th>question</th>\n",
       "      <th>answer</th>\n",
       "    </tr>\n",
       "  </thead>\n",
       "  <tbody>\n",
       "    <tr>\n",
       "      <th>1</th>\n",
       "      <td>Would you mind checking this sentence for erro...</td>\n",
       "      <td>Certainly! Here’s the improved version. Capita...</td>\n",
       "    </tr>\n",
       "    <tr>\n",
       "      <th>2</th>\n",
       "      <td>Would you mind checking this sentence for erro...</td>\n",
       "      <td>Yes, here's how you can improve it. Many brand...</td>\n",
       "    </tr>\n",
       "    <tr>\n",
       "      <th>3</th>\n",
       "      <td>Could you suggest a better way to phrase this?...</td>\n",
       "      <td>Certainly! Here’s the improved version. This i...</td>\n",
       "    </tr>\n",
       "    <tr>\n",
       "      <th>4</th>\n",
       "      <td>Can you point out the mistakes in this sentenc...</td>\n",
       "      <td>Yes, here's how you can improve it. Fairy Or N...</td>\n",
       "    </tr>\n",
       "    <tr>\n",
       "      <th>5</th>\n",
       "      <td>Would you mind checking this sentence for erro...</td>\n",
       "      <td>Absolutely! Here’s the right version. Watch as...</td>\n",
       "    </tr>\n",
       "  </tbody>\n",
       "</table>\n",
       "</div>"
      ],
      "text/plain": [
       "                                            question  \\\n",
       "1  Would you mind checking this sentence for erro...   \n",
       "2  Would you mind checking this sentence for erro...   \n",
       "3  Could you suggest a better way to phrase this?...   \n",
       "4  Can you point out the mistakes in this sentenc...   \n",
       "5  Would you mind checking this sentence for erro...   \n",
       "\n",
       "                                              answer  \n",
       "1  Certainly! Here’s the improved version. Capita...  \n",
       "2  Yes, here's how you can improve it. Many brand...  \n",
       "3  Certainly! Here’s the improved version. This i...  \n",
       "4  Yes, here's how you can improve it. Fairy Or N...  \n",
       "5  Absolutely! Here’s the right version. Watch as...  "
      ]
     },
     "execution_count": 26,
     "metadata": {},
     "output_type": "execute_result"
    }
   ],
   "source": [
    "qna_df.head()"
   ]
  },
  {
   "cell_type": "code",
   "execution_count": 27,
   "id": "ec1d5e9b",
   "metadata": {
    "execution": {
     "iopub.execute_input": "2024-10-24T16:37:25.503104Z",
     "iopub.status.busy": "2024-10-24T16:37:25.502665Z",
     "iopub.status.idle": "2024-10-24T16:37:25.510113Z",
     "shell.execute_reply": "2024-10-24T16:37:25.508896Z"
    },
    "papermill": {
     "duration": 0.02983,
     "end_time": "2024-10-24T16:37:25.512409",
     "exception": false,
     "start_time": "2024-10-24T16:37:25.482579",
     "status": "completed"
    },
    "tags": []
   },
   "outputs": [
    {
     "data": {
      "text/plain": [
       "(400, 2)"
      ]
     },
     "execution_count": 27,
     "metadata": {},
     "output_type": "execute_result"
    }
   ],
   "source": [
    "qna_df.shape"
   ]
  },
  {
   "cell_type": "markdown",
   "id": "aa0f8b0f",
   "metadata": {
    "papermill": {
     "duration": 0.01912,
     "end_time": "2024-10-24T16:37:25.550785",
     "exception": false,
     "start_time": "2024-10-24T16:37:25.531665",
     "status": "completed"
    },
    "tags": []
   },
   "source": [
    "# Save to CSV"
   ]
  },
  {
   "cell_type": "code",
   "execution_count": 28,
   "id": "583c879d",
   "metadata": {
    "execution": {
     "iopub.execute_input": "2024-10-24T16:37:25.591272Z",
     "iopub.status.busy": "2024-10-24T16:37:25.590390Z",
     "iopub.status.idle": "2024-10-24T16:37:25.605401Z",
     "shell.execute_reply": "2024-10-24T16:37:25.604146Z"
    },
    "papermill": {
     "duration": 0.038261,
     "end_time": "2024-10-24T16:37:25.608497",
     "exception": false,
     "start_time": "2024-10-24T16:37:25.570236",
     "status": "completed"
    },
    "tags": []
   },
   "outputs": [],
   "source": [
    "qna_df.to_csv('grammer_correction_dataset_qna.csv', index=False)"
   ]
  },
  {
   "cell_type": "code",
   "execution_count": null,
   "id": "f5fe1d60",
   "metadata": {
    "papermill": {
     "duration": 0.018536,
     "end_time": "2024-10-24T16:37:25.646302",
     "exception": false,
     "start_time": "2024-10-24T16:37:25.627766",
     "status": "completed"
    },
    "tags": []
   },
   "outputs": [],
   "source": []
  }
 ],
 "metadata": {
  "kaggle": {
   "accelerator": "none",
   "dataSources": [
    {
     "datasetId": 2272599,
     "sourceId": 5448281,
     "sourceType": "datasetVersion"
    },
    {
     "datasetId": 5915392,
     "sourceId": 9678313,
     "sourceType": "datasetVersion"
    }
   ],
   "dockerImageVersionId": 30786,
   "isGpuEnabled": false,
   "isInternetEnabled": true,
   "language": "python",
   "sourceType": "notebook"
  },
  "kernelspec": {
   "display_name": "Python 3",
   "language": "python",
   "name": "python3"
  },
  "language_info": {
   "codemirror_mode": {
    "name": "ipython",
    "version": 3
   },
   "file_extension": ".py",
   "mimetype": "text/x-python",
   "name": "python",
   "nbconvert_exporter": "python",
   "pygments_lexer": "ipython3",
   "version": "3.10.14"
  },
  "papermill": {
   "default_parameters": {},
   "duration": 14.76507,
   "end_time": "2024-10-24T16:37:26.589090",
   "environment_variables": {},
   "exception": null,
   "input_path": "__notebook__.ipynb",
   "output_path": "__notebook__.ipynb",
   "parameters": {},
   "start_time": "2024-10-24T16:37:11.824020",
   "version": "2.6.0"
  }
 },
 "nbformat": 4,
 "nbformat_minor": 5
}
