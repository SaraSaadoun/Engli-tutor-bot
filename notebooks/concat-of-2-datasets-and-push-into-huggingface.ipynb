{
 "cells": [
  {
   "cell_type": "code",
   "execution_count": 1,
   "id": "9214a886",
   "metadata": {
    "_cell_guid": "b1076dfc-b9ad-4769-8c92-a6c4dae69d19",
    "_uuid": "8f2839f25d086af736a60e9eeb907d3b93b6e0e5",
    "execution": {
     "iopub.execute_input": "2024-10-24T16:54:34.568993Z",
     "iopub.status.busy": "2024-10-24T16:54:34.568441Z",
     "iopub.status.idle": "2024-10-24T16:54:36.671979Z",
     "shell.execute_reply": "2024-10-24T16:54:36.670641Z"
    },
    "papermill": {
     "duration": 2.113379,
     "end_time": "2024-10-24T16:54:36.674937",
     "exception": false,
     "start_time": "2024-10-24T16:54:34.561558",
     "status": "completed"
    },
    "tags": []
   },
   "outputs": [],
   "source": [
    "import numpy as np \n",
    "import pandas as pd \n",
    "from datasets import Dataset, DatasetDict\n",
    "from huggingface_hub import login\n"
   ]
  },
  {
   "cell_type": "markdown",
   "id": "d915dbda",
   "metadata": {
    "papermill": {
     "duration": 0.003972,
     "end_time": "2024-10-24T16:54:36.683591",
     "exception": false,
     "start_time": "2024-10-24T16:54:36.679619",
     "status": "completed"
    },
    "tags": []
   },
   "source": [
    "# Concat of 2 dataset"
   ]
  },
  {
   "cell_type": "code",
   "execution_count": 2,
   "id": "e217c7da",
   "metadata": {
    "execution": {
     "iopub.execute_input": "2024-10-24T16:54:36.693588Z",
     "iopub.status.busy": "2024-10-24T16:54:36.692961Z",
     "iopub.status.idle": "2024-10-24T16:54:36.736294Z",
     "shell.execute_reply": "2024-10-24T16:54:36.735022Z"
    },
    "papermill": {
     "duration": 0.051235,
     "end_time": "2024-10-24T16:54:36.738965",
     "exception": false,
     "start_time": "2024-10-24T16:54:36.687730",
     "status": "completed"
    },
    "tags": []
   },
   "outputs": [
    {
     "data": {
      "text/html": [
       "<div>\n",
       "<style scoped>\n",
       "    .dataframe tbody tr th:only-of-type {\n",
       "        vertical-align: middle;\n",
       "    }\n",
       "\n",
       "    .dataframe tbody tr th {\n",
       "        vertical-align: top;\n",
       "    }\n",
       "\n",
       "    .dataframe thead th {\n",
       "        text-align: right;\n",
       "    }\n",
       "</style>\n",
       "<table border=\"1\" class=\"dataframe\">\n",
       "  <thead>\n",
       "    <tr style=\"text-align: right;\">\n",
       "      <th></th>\n",
       "      <th>text</th>\n",
       "    </tr>\n",
       "  </thead>\n",
       "  <tbody>\n",
       "    <tr>\n",
       "      <th>0</th>\n",
       "      <td>&lt;s&gt;[INST] Do you know how to define genoese? [...</td>\n",
       "    </tr>\n",
       "    <tr>\n",
       "      <th>1</th>\n",
       "      <td>&lt;s&gt;[INST] Can you suggest synonyms for slaveho...</td>\n",
       "    </tr>\n",
       "    <tr>\n",
       "      <th>2</th>\n",
       "      <td>&lt;s&gt;[INST] What’s the context behind sixer? [/I...</td>\n",
       "    </tr>\n",
       "    <tr>\n",
       "      <th>3</th>\n",
       "      <td>&lt;s&gt;[INST] What does swain encapsulate? [/INST]...</td>\n",
       "    </tr>\n",
       "    <tr>\n",
       "      <th>4</th>\n",
       "      <td>&lt;s&gt;[INST] Do you have any idea what adherent r...</td>\n",
       "    </tr>\n",
       "  </tbody>\n",
       "</table>\n",
       "</div>"
      ],
      "text/plain": [
       "                                                text\n",
       "0  <s>[INST] Do you know how to define genoese? [...\n",
       "1  <s>[INST] Can you suggest synonyms for slaveho...\n",
       "2  <s>[INST] What’s the context behind sixer? [/I...\n",
       "3  <s>[INST] What does swain encapsulate? [/INST]...\n",
       "4  <s>[INST] Do you have any idea what adherent r..."
      ]
     },
     "execution_count": 2,
     "metadata": {},
     "output_type": "execute_result"
    }
   ],
   "source": [
    "dict_df = pd.read_csv('/kaggle/input/datasetss/dictionary_dataset_as_llama_format.csv')\n",
    "dict_df.head()"
   ]
  },
  {
   "cell_type": "code",
   "execution_count": 3,
   "id": "55e12522",
   "metadata": {
    "execution": {
     "iopub.execute_input": "2024-10-24T16:54:36.751463Z",
     "iopub.status.busy": "2024-10-24T16:54:36.750940Z",
     "iopub.status.idle": "2024-10-24T16:54:36.757865Z",
     "shell.execute_reply": "2024-10-24T16:54:36.756862Z"
    },
    "papermill": {
     "duration": 0.015337,
     "end_time": "2024-10-24T16:54:36.760027",
     "exception": false,
     "start_time": "2024-10-24T16:54:36.744690",
     "status": "completed"
    },
    "tags": []
   },
   "outputs": [
    {
     "data": {
      "text/plain": [
       "(400, 1)"
      ]
     },
     "execution_count": 3,
     "metadata": {},
     "output_type": "execute_result"
    }
   ],
   "source": [
    "dict_df.shape"
   ]
  },
  {
   "cell_type": "code",
   "execution_count": 4,
   "id": "55e92c36",
   "metadata": {
    "execution": {
     "iopub.execute_input": "2024-10-24T16:54:36.771780Z",
     "iopub.status.busy": "2024-10-24T16:54:36.771020Z",
     "iopub.status.idle": "2024-10-24T16:54:36.797017Z",
     "shell.execute_reply": "2024-10-24T16:54:36.795967Z"
    },
    "papermill": {
     "duration": 0.03491,
     "end_time": "2024-10-24T16:54:36.799530",
     "exception": false,
     "start_time": "2024-10-24T16:54:36.764620",
     "status": "completed"
    },
    "tags": []
   },
   "outputs": [
    {
     "data": {
      "text/html": [
       "<div>\n",
       "<style scoped>\n",
       "    .dataframe tbody tr th:only-of-type {\n",
       "        vertical-align: middle;\n",
       "    }\n",
       "\n",
       "    .dataframe tbody tr th {\n",
       "        vertical-align: top;\n",
       "    }\n",
       "\n",
       "    .dataframe thead th {\n",
       "        text-align: right;\n",
       "    }\n",
       "</style>\n",
       "<table border=\"1\" class=\"dataframe\">\n",
       "  <thead>\n",
       "    <tr style=\"text-align: right;\">\n",
       "      <th></th>\n",
       "      <th>text</th>\n",
       "    </tr>\n",
       "  </thead>\n",
       "  <tbody>\n",
       "    <tr>\n",
       "      <th>0</th>\n",
       "      <td>&lt;s&gt;[INST] How would you correct this sentence?...</td>\n",
       "    </tr>\n",
       "    <tr>\n",
       "      <th>1</th>\n",
       "      <td>&lt;s&gt;[INST] Is there a grammatical error in this...</td>\n",
       "    </tr>\n",
       "    <tr>\n",
       "      <th>2</th>\n",
       "      <td>&lt;s&gt;[INST] Can you point out the mistakes in th...</td>\n",
       "    </tr>\n",
       "    <tr>\n",
       "      <th>3</th>\n",
       "      <td>&lt;s&gt;[INST] Would you mind checking this sentenc...</td>\n",
       "    </tr>\n",
       "    <tr>\n",
       "      <th>4</th>\n",
       "      <td>&lt;s&gt;[INST] Can you review this sentence for me?...</td>\n",
       "    </tr>\n",
       "  </tbody>\n",
       "</table>\n",
       "</div>"
      ],
      "text/plain": [
       "                                                text\n",
       "0  <s>[INST] How would you correct this sentence?...\n",
       "1  <s>[INST] Is there a grammatical error in this...\n",
       "2  <s>[INST] Can you point out the mistakes in th...\n",
       "3  <s>[INST] Would you mind checking this sentenc...\n",
       "4  <s>[INST] Can you review this sentence for me?..."
      ]
     },
     "execution_count": 4,
     "metadata": {},
     "output_type": "execute_result"
    }
   ],
   "source": [
    "grammer_df = pd.read_csv('/kaggle/input/datasetss/grammer_correction_dataset_as_llama_format.csv')\n",
    "grammer_df.head()\n"
   ]
  },
  {
   "cell_type": "code",
   "execution_count": 5,
   "id": "922f6b51",
   "metadata": {
    "execution": {
     "iopub.execute_input": "2024-10-24T16:54:36.811934Z",
     "iopub.status.busy": "2024-10-24T16:54:36.810635Z",
     "iopub.status.idle": "2024-10-24T16:54:36.818393Z",
     "shell.execute_reply": "2024-10-24T16:54:36.817298Z"
    },
    "papermill": {
     "duration": 0.016329,
     "end_time": "2024-10-24T16:54:36.820638",
     "exception": false,
     "start_time": "2024-10-24T16:54:36.804309",
     "status": "completed"
    },
    "tags": []
   },
   "outputs": [
    {
     "data": {
      "text/plain": [
       "(400, 1)"
      ]
     },
     "execution_count": 5,
     "metadata": {},
     "output_type": "execute_result"
    }
   ],
   "source": [
    "grammer_df.shape"
   ]
  },
  {
   "cell_type": "code",
   "execution_count": 6,
   "id": "5fabc636",
   "metadata": {
    "execution": {
     "iopub.execute_input": "2024-10-24T16:54:36.832927Z",
     "iopub.status.busy": "2024-10-24T16:54:36.831777Z",
     "iopub.status.idle": "2024-10-24T16:54:36.838479Z",
     "shell.execute_reply": "2024-10-24T16:54:36.837310Z"
    },
    "papermill": {
     "duration": 0.01547,
     "end_time": "2024-10-24T16:54:36.841138",
     "exception": false,
     "start_time": "2024-10-24T16:54:36.825668",
     "status": "completed"
    },
    "tags": []
   },
   "outputs": [],
   "source": [
    "df = pd.concat([dict_df, grammer_df], axis=0)"
   ]
  },
  {
   "cell_type": "code",
   "execution_count": 7,
   "id": "90bb0225",
   "metadata": {
    "execution": {
     "iopub.execute_input": "2024-10-24T16:54:36.852371Z",
     "iopub.status.busy": "2024-10-24T16:54:36.851950Z",
     "iopub.status.idle": "2024-10-24T16:54:36.862508Z",
     "shell.execute_reply": "2024-10-24T16:54:36.861271Z"
    },
    "papermill": {
     "duration": 0.018928,
     "end_time": "2024-10-24T16:54:36.864899",
     "exception": false,
     "start_time": "2024-10-24T16:54:36.845971",
     "status": "completed"
    },
    "tags": []
   },
   "outputs": [
    {
     "data": {
      "text/html": [
       "<div>\n",
       "<style scoped>\n",
       "    .dataframe tbody tr th:only-of-type {\n",
       "        vertical-align: middle;\n",
       "    }\n",
       "\n",
       "    .dataframe tbody tr th {\n",
       "        vertical-align: top;\n",
       "    }\n",
       "\n",
       "    .dataframe thead th {\n",
       "        text-align: right;\n",
       "    }\n",
       "</style>\n",
       "<table border=\"1\" class=\"dataframe\">\n",
       "  <thead>\n",
       "    <tr style=\"text-align: right;\">\n",
       "      <th></th>\n",
       "      <th>text</th>\n",
       "    </tr>\n",
       "  </thead>\n",
       "  <tbody>\n",
       "    <tr>\n",
       "      <th>0</th>\n",
       "      <td>&lt;s&gt;[INST] Do you know how to define genoese? [...</td>\n",
       "    </tr>\n",
       "    <tr>\n",
       "      <th>1</th>\n",
       "      <td>&lt;s&gt;[INST] Can you suggest synonyms for slaveho...</td>\n",
       "    </tr>\n",
       "    <tr>\n",
       "      <th>2</th>\n",
       "      <td>&lt;s&gt;[INST] What’s the context behind sixer? [/I...</td>\n",
       "    </tr>\n",
       "    <tr>\n",
       "      <th>3</th>\n",
       "      <td>&lt;s&gt;[INST] What does swain encapsulate? [/INST]...</td>\n",
       "    </tr>\n",
       "    <tr>\n",
       "      <th>4</th>\n",
       "      <td>&lt;s&gt;[INST] Do you have any idea what adherent r...</td>\n",
       "    </tr>\n",
       "  </tbody>\n",
       "</table>\n",
       "</div>"
      ],
      "text/plain": [
       "                                                text\n",
       "0  <s>[INST] Do you know how to define genoese? [...\n",
       "1  <s>[INST] Can you suggest synonyms for slaveho...\n",
       "2  <s>[INST] What’s the context behind sixer? [/I...\n",
       "3  <s>[INST] What does swain encapsulate? [/INST]...\n",
       "4  <s>[INST] Do you have any idea what adherent r..."
      ]
     },
     "execution_count": 7,
     "metadata": {},
     "output_type": "execute_result"
    }
   ],
   "source": [
    "df.head()"
   ]
  },
  {
   "cell_type": "code",
   "execution_count": 8,
   "id": "9a094a09",
   "metadata": {
    "execution": {
     "iopub.execute_input": "2024-10-24T16:54:36.877620Z",
     "iopub.status.busy": "2024-10-24T16:54:36.877196Z",
     "iopub.status.idle": "2024-10-24T16:54:36.884924Z",
     "shell.execute_reply": "2024-10-24T16:54:36.883549Z"
    },
    "papermill": {
     "duration": 0.016552,
     "end_time": "2024-10-24T16:54:36.887454",
     "exception": false,
     "start_time": "2024-10-24T16:54:36.870902",
     "status": "completed"
    },
    "tags": []
   },
   "outputs": [
    {
     "data": {
      "text/plain": [
       "(800, 1)"
      ]
     },
     "execution_count": 8,
     "metadata": {},
     "output_type": "execute_result"
    }
   ],
   "source": [
    "df.shape"
   ]
  },
  {
   "cell_type": "code",
   "execution_count": 9,
   "id": "0b6530e0",
   "metadata": {
    "execution": {
     "iopub.execute_input": "2024-10-24T16:54:36.899825Z",
     "iopub.status.busy": "2024-10-24T16:54:36.898970Z",
     "iopub.status.idle": "2024-10-24T16:54:36.920483Z",
     "shell.execute_reply": "2024-10-24T16:54:36.919135Z"
    },
    "papermill": {
     "duration": 0.030434,
     "end_time": "2024-10-24T16:54:36.923056",
     "exception": false,
     "start_time": "2024-10-24T16:54:36.892622",
     "status": "completed"
    },
    "tags": []
   },
   "outputs": [],
   "source": [
    "df.to_csv('dictionary_and_grammer_correction_dataset.csv', index=False)"
   ]
  },
  {
   "cell_type": "code",
   "execution_count": 10,
   "id": "fc36277b",
   "metadata": {
    "execution": {
     "iopub.execute_input": "2024-10-24T16:54:36.935056Z",
     "iopub.status.busy": "2024-10-24T16:54:36.934647Z",
     "iopub.status.idle": "2024-10-24T16:54:36.943199Z",
     "shell.execute_reply": "2024-10-24T16:54:36.941747Z"
    },
    "papermill": {
     "duration": 0.017278,
     "end_time": "2024-10-24T16:54:36.945723",
     "exception": false,
     "start_time": "2024-10-24T16:54:36.928445",
     "status": "completed"
    },
    "tags": []
   },
   "outputs": [
    {
     "data": {
      "text/plain": [
       "((200, 1), (200, 1))"
      ]
     },
     "execution_count": 10,
     "metadata": {},
     "output_type": "execute_result"
    }
   ],
   "source": [
    "split = 200\n",
    "train_df = df[:split]\n",
    "test_df = df[-split:]\n",
    "\n",
    "train_df.shape, test_df.shape"
   ]
  },
  {
   "cell_type": "markdown",
   "id": "f1e01f03",
   "metadata": {
    "papermill": {
     "duration": 0.0049,
     "end_time": "2024-10-24T16:54:36.955886",
     "exception": false,
     "start_time": "2024-10-24T16:54:36.950986",
     "status": "completed"
    },
    "tags": []
   },
   "source": [
    "# Push into HuggingFace"
   ]
  },
  {
   "cell_type": "code",
   "execution_count": 11,
   "id": "d5a620bd",
   "metadata": {
    "execution": {
     "iopub.execute_input": "2024-10-24T16:54:36.967654Z",
     "iopub.status.busy": "2024-10-24T16:54:36.967279Z",
     "iopub.status.idle": "2024-10-24T16:54:37.007309Z",
     "shell.execute_reply": "2024-10-24T16:54:37.006179Z"
    },
    "papermill": {
     "duration": 0.048875,
     "end_time": "2024-10-24T16:54:37.009883",
     "exception": false,
     "start_time": "2024-10-24T16:54:36.961008",
     "status": "completed"
    },
    "tags": []
   },
   "outputs": [],
   "source": [
    "train_dataset = Dataset.from_pandas(train_df)\n",
    "test_dataset = Dataset.from_pandas(test_df)"
   ]
  },
  {
   "cell_type": "code",
   "execution_count": 12,
   "id": "62d61c25",
   "metadata": {
    "execution": {
     "iopub.execute_input": "2024-10-24T16:54:37.022764Z",
     "iopub.status.busy": "2024-10-24T16:54:37.021706Z",
     "iopub.status.idle": "2024-10-24T16:54:37.027400Z",
     "shell.execute_reply": "2024-10-24T16:54:37.026263Z"
    },
    "papermill": {
     "duration": 0.01461,
     "end_time": "2024-10-24T16:54:37.029804",
     "exception": false,
     "start_time": "2024-10-24T16:54:37.015194",
     "status": "completed"
    },
    "tags": []
   },
   "outputs": [],
   "source": [
    "# Create a DatasetDict to hold train and test splits\n",
    "dataset_dict = DatasetDict({\n",
    "    'train': train_dataset,\n",
    "    'test': test_dataset\n",
    "})"
   ]
  },
  {
   "cell_type": "code",
   "execution_count": 13,
   "id": "8076d932",
   "metadata": {
    "execution": {
     "iopub.execute_input": "2024-10-24T16:54:37.042284Z",
     "iopub.status.busy": "2024-10-24T16:54:37.041867Z",
     "iopub.status.idle": "2024-10-24T16:54:37.436691Z",
     "shell.execute_reply": "2024-10-24T16:54:37.435053Z"
    },
    "papermill": {
     "duration": 0.403587,
     "end_time": "2024-10-24T16:54:37.438781",
     "exception": true,
     "start_time": "2024-10-24T16:54:37.035194",
     "status": "failed"
    },
    "tags": []
   },
   "outputs": [
    {
     "name": "stdout",
     "output_type": "stream",
     "text": [
      "The token has not been saved to the git credentials helper. Pass `add_to_git_credential=True` in this function directly or `--add-to-git-credential` if using via `huggingface-cli` if you want to set the git credential as well.\n"
     ]
    },
    {
     "ename": "AttributeError",
     "evalue": "'ellipsis' object has no attribute 'startswith'",
     "output_type": "error",
     "traceback": [
      "\u001b[0;31m---------------------------------------------------------------------------\u001b[0m",
      "\u001b[0;31mAttributeError\u001b[0m                            Traceback (most recent call last)",
      "Cell \u001b[0;32mIn[13], line 4\u001b[0m\n\u001b[1;32m      1\u001b[0m \u001b[38;5;66;03m# Log in to Hugging Face Hub\u001b[39;00m\n\u001b[1;32m      3\u001b[0m token_id \u001b[38;5;241m=\u001b[39m \u001b[38;5;241m.\u001b[39m\u001b[38;5;241m.\u001b[39m\u001b[38;5;241m.\u001b[39m \u001b[38;5;66;03m# REPLACE ... with your huggingface token\u001b[39;00m\n\u001b[0;32m----> 4\u001b[0m \u001b[43mlogin\u001b[49m\u001b[43m(\u001b[49m\u001b[43mtoken_id\u001b[49m\u001b[43m)\u001b[49m\n\u001b[1;32m      6\u001b[0m \u001b[38;5;66;03m# Push the dataset to the Hugging Face Hub\u001b[39;00m\n\u001b[1;32m      7\u001b[0m dataset_dict\u001b[38;5;241m.\u001b[39mpush_to_hub(\u001b[38;5;124m\"\u001b[39m\u001b[38;5;124mvocab-grammer-400sample-ds\u001b[39m\u001b[38;5;124m\"\u001b[39m, private\u001b[38;5;241m=\u001b[39m\u001b[38;5;28;01mFalse\u001b[39;00m)  \u001b[38;5;66;03m# Set private=True if needed\u001b[39;00m\n",
      "File \u001b[0;32m/opt/conda/lib/python3.10/site-packages/huggingface_hub/_login.py:111\u001b[0m, in \u001b[0;36mlogin\u001b[0;34m(token, add_to_git_credential, new_session, write_permission)\u001b[0m\n\u001b[1;32m    104\u001b[0m     \u001b[38;5;28;01mif\u001b[39;00m \u001b[38;5;129;01mnot\u001b[39;00m add_to_git_credential:\n\u001b[1;32m    105\u001b[0m         \u001b[38;5;28mprint\u001b[39m(\n\u001b[1;32m    106\u001b[0m             \u001b[38;5;124m\"\u001b[39m\u001b[38;5;124mThe token has not been saved to the git credentials helper. Pass \u001b[39m\u001b[38;5;124m\"\u001b[39m\n\u001b[1;32m    107\u001b[0m             \u001b[38;5;124m\"\u001b[39m\u001b[38;5;124m`add_to_git_credential=True` in this function directly or \u001b[39m\u001b[38;5;124m\"\u001b[39m\n\u001b[1;32m    108\u001b[0m             \u001b[38;5;124m\"\u001b[39m\u001b[38;5;124m`--add-to-git-credential` if using via `huggingface-cli` if \u001b[39m\u001b[38;5;124m\"\u001b[39m\n\u001b[1;32m    109\u001b[0m             \u001b[38;5;124m\"\u001b[39m\u001b[38;5;124myou want to set the git credential as well.\u001b[39m\u001b[38;5;124m\"\u001b[39m\n\u001b[1;32m    110\u001b[0m         )\n\u001b[0;32m--> 111\u001b[0m     \u001b[43m_login\u001b[49m\u001b[43m(\u001b[49m\u001b[43mtoken\u001b[49m\u001b[43m,\u001b[49m\u001b[43m \u001b[49m\u001b[43madd_to_git_credential\u001b[49m\u001b[38;5;241;43m=\u001b[39;49m\u001b[43madd_to_git_credential\u001b[49m\u001b[43m,\u001b[49m\u001b[43m \u001b[49m\u001b[43mwrite_permission\u001b[49m\u001b[38;5;241;43m=\u001b[39;49m\u001b[43mwrite_permission\u001b[49m\u001b[43m)\u001b[49m\n\u001b[1;32m    112\u001b[0m \u001b[38;5;28;01melif\u001b[39;00m is_notebook():\n\u001b[1;32m    113\u001b[0m     notebook_login(new_session\u001b[38;5;241m=\u001b[39mnew_session, write_permission\u001b[38;5;241m=\u001b[39mwrite_permission)\n",
      "File \u001b[0;32m/opt/conda/lib/python3.10/site-packages/huggingface_hub/_login.py:302\u001b[0m, in \u001b[0;36m_login\u001b[0;34m(token, add_to_git_credential, write_permission)\u001b[0m\n\u001b[1;32m    299\u001b[0m \u001b[38;5;28;01mdef\u001b[39;00m \u001b[38;5;21m_login\u001b[39m(token: \u001b[38;5;28mstr\u001b[39m, add_to_git_credential: \u001b[38;5;28mbool\u001b[39m, write_permission: \u001b[38;5;28mbool\u001b[39m \u001b[38;5;241m=\u001b[39m \u001b[38;5;28;01mFalse\u001b[39;00m) \u001b[38;5;241m-\u001b[39m\u001b[38;5;241m>\u001b[39m \u001b[38;5;28;01mNone\u001b[39;00m:\n\u001b[1;32m    300\u001b[0m     \u001b[38;5;28;01mfrom\u001b[39;00m \u001b[38;5;21;01m.\u001b[39;00m\u001b[38;5;21;01mhf_api\u001b[39;00m \u001b[38;5;28;01mimport\u001b[39;00m get_token_permission  \u001b[38;5;66;03m# avoid circular import\u001b[39;00m\n\u001b[0;32m--> 302\u001b[0m     \u001b[38;5;28;01mif\u001b[39;00m \u001b[43mtoken\u001b[49m\u001b[38;5;241;43m.\u001b[39;49m\u001b[43mstartswith\u001b[49m(\u001b[38;5;124m\"\u001b[39m\u001b[38;5;124mapi_org\u001b[39m\u001b[38;5;124m\"\u001b[39m):\n\u001b[1;32m    303\u001b[0m         \u001b[38;5;28;01mraise\u001b[39;00m \u001b[38;5;167;01mValueError\u001b[39;00m(\u001b[38;5;124m\"\u001b[39m\u001b[38;5;124mYou must use your personal account token, not an organization token.\u001b[39m\u001b[38;5;124m\"\u001b[39m)\n\u001b[1;32m    305\u001b[0m     permission \u001b[38;5;241m=\u001b[39m get_token_permission(token)\n",
      "\u001b[0;31mAttributeError\u001b[0m: 'ellipsis' object has no attribute 'startswith'"
     ]
    }
   ],
   "source": [
    "# Log in to Hugging Face Hub\n",
    "\n",
    "token_id = ... # REPLACE ... with your huggingface token\n",
    "login(token_id)\n",
    "\n",
    "# Push the dataset to the Hugging Face Hub\n",
    "dataset_dict.push_to_hub(\"vocab-grammer-400sample-ds\", private=False)  # Set private=True if needed\n",
    "\n",
    "print(\"Dataset uploaded successfully!\")"
   ]
  }
 ],
 "metadata": {
  "kaggle": {
   "accelerator": "none",
   "dataSources": [
    {
     "datasetId": 5941869,
     "sourceId": 9713422,
     "sourceType": "datasetVersion"
    }
   ],
   "dockerImageVersionId": 30786,
   "isGpuEnabled": false,
   "isInternetEnabled": true,
   "language": "python",
   "sourceType": "notebook"
  },
  "kernelspec": {
   "display_name": "Python 3",
   "language": "python",
   "name": "python3"
  },
  "language_info": {
   "codemirror_mode": {
    "name": "ipython",
    "version": 3
   },
   "file_extension": ".py",
   "mimetype": "text/x-python",
   "name": "python",
   "nbconvert_exporter": "python",
   "pygments_lexer": "ipython3",
   "version": "3.10.14"
  },
  "papermill": {
   "default_parameters": {},
   "duration": 6.648729,
   "end_time": "2024-10-24T16:54:38.167662",
   "environment_variables": {},
   "exception": true,
   "input_path": "__notebook__.ipynb",
   "output_path": "__notebook__.ipynb",
   "parameters": {},
   "start_time": "2024-10-24T16:54:31.518933",
   "version": "2.6.0"
  }
 },
 "nbformat": 4,
 "nbformat_minor": 5
}
